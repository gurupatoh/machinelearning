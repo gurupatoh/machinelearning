{
 "cells": [
  {
   "cell_type": "code",
   "execution_count": 2,
   "metadata": {},
   "outputs": [],
   "source": [
    "import numpy as np # inear algebra\n",
    "import pandas as pd #data manipulation library\n",
    "import seaborn as sns\n",
    "import matplotlib.pyplot as plt #data visuaizition\n",
    "from sklearn.linear_model import LinearRegression # for linear Regression Algorithm\n",
    "from sklearn.model_selection import train_test_split # to split the dataset for training and testing\n",
    "from sklearn import metrics # for checking the model accuracy\n",
    "from pandas import Series, DataFrame\n",
    "\n",
    " \n",
    "\n"
   ]
  },
  {
   "cell_type": "markdown",
   "metadata": {},
   "source": [
    "### Load Dataset Using Pandas"
   ]
  },
  {
   "cell_type": "code",
   "execution_count": 3,
   "metadata": {},
   "outputs": [],
   "source": [
    "df = pd.read_csv(\"./recs2015_public_v4-1.csv\") \n"
   ]
  },
  {
   "cell_type": "code",
   "execution_count": 4,
   "metadata": {},
   "outputs": [
    {
     "data": {
      "text/html": [
       "<div>\n",
       "<style scoped>\n",
       "    .dataframe tbody tr th:only-of-type {\n",
       "        vertical-align: middle;\n",
       "    }\n",
       "\n",
       "    .dataframe tbody tr th {\n",
       "        vertical-align: top;\n",
       "    }\n",
       "\n",
       "    .dataframe thead th {\n",
       "        text-align: right;\n",
       "    }\n",
       "</style>\n",
       "<table border=\"1\" class=\"dataframe\">\n",
       "  <thead>\n",
       "    <tr style=\"text-align: right;\">\n",
       "      <th></th>\n",
       "      <th>DOEID</th>\n",
       "      <th>REGIONC</th>\n",
       "      <th>DIVISION</th>\n",
       "      <th>METROMICRO</th>\n",
       "      <th>UATYP10</th>\n",
       "      <th>TYPEHUQ</th>\n",
       "      <th>ZTYPEHUQ</th>\n",
       "      <th>CELLAR</th>\n",
       "      <th>ZCELLAR</th>\n",
       "      <th>BASEFIN</th>\n",
       "      <th>...</th>\n",
       "      <th>ZELAMOUNT</th>\n",
       "      <th>NGXBTU</th>\n",
       "      <th>PERIODNG</th>\n",
       "      <th>ZNGAMOUNT</th>\n",
       "      <th>FOXBTU</th>\n",
       "      <th>PERIODFO</th>\n",
       "      <th>ZFOAMOUNT</th>\n",
       "      <th>LPXBTU</th>\n",
       "      <th>PERIODLP</th>\n",
       "      <th>ZLPAMOUNT</th>\n",
       "    </tr>\n",
       "  </thead>\n",
       "  <tbody>\n",
       "    <tr>\n",
       "      <th>0</th>\n",
       "      <td>10001</td>\n",
       "      <td>4</td>\n",
       "      <td>10</td>\n",
       "      <td>METRO</td>\n",
       "      <td>U</td>\n",
       "      <td>2</td>\n",
       "      <td>0</td>\n",
       "      <td>0</td>\n",
       "      <td>0</td>\n",
       "      <td>-2</td>\n",
       "      <td>...</td>\n",
       "      <td>0</td>\n",
       "      <td>103.32</td>\n",
       "      <td>1</td>\n",
       "      <td>0</td>\n",
       "      <td>137.45</td>\n",
       "      <td>-2</td>\n",
       "      <td>-2</td>\n",
       "      <td>91.33</td>\n",
       "      <td>-2</td>\n",
       "      <td>-2</td>\n",
       "    </tr>\n",
       "    <tr>\n",
       "      <th>1</th>\n",
       "      <td>10002</td>\n",
       "      <td>3</td>\n",
       "      <td>7</td>\n",
       "      <td>NONE</td>\n",
       "      <td>R</td>\n",
       "      <td>2</td>\n",
       "      <td>0</td>\n",
       "      <td>0</td>\n",
       "      <td>0</td>\n",
       "      <td>-2</td>\n",
       "      <td>...</td>\n",
       "      <td>1</td>\n",
       "      <td>NaN</td>\n",
       "      <td>-2</td>\n",
       "      <td>-2</td>\n",
       "      <td>137.45</td>\n",
       "      <td>-2</td>\n",
       "      <td>-2</td>\n",
       "      <td>91.33</td>\n",
       "      <td>-2</td>\n",
       "      <td>-2</td>\n",
       "    </tr>\n",
       "    <tr>\n",
       "      <th>2</th>\n",
       "      <td>10003</td>\n",
       "      <td>3</td>\n",
       "      <td>6</td>\n",
       "      <td>METRO</td>\n",
       "      <td>U</td>\n",
       "      <td>2</td>\n",
       "      <td>0</td>\n",
       "      <td>1</td>\n",
       "      <td>0</td>\n",
       "      <td>1</td>\n",
       "      <td>...</td>\n",
       "      <td>0</td>\n",
       "      <td>100.14</td>\n",
       "      <td>1</td>\n",
       "      <td>0</td>\n",
       "      <td>137.45</td>\n",
       "      <td>-2</td>\n",
       "      <td>-2</td>\n",
       "      <td>91.33</td>\n",
       "      <td>-2</td>\n",
       "      <td>-2</td>\n",
       "    </tr>\n",
       "    <tr>\n",
       "      <th>3</th>\n",
       "      <td>10004</td>\n",
       "      <td>2</td>\n",
       "      <td>4</td>\n",
       "      <td>MICRO</td>\n",
       "      <td>C</td>\n",
       "      <td>2</td>\n",
       "      <td>0</td>\n",
       "      <td>1</td>\n",
       "      <td>0</td>\n",
       "      <td>1</td>\n",
       "      <td>...</td>\n",
       "      <td>0</td>\n",
       "      <td>NaN</td>\n",
       "      <td>-2</td>\n",
       "      <td>-2</td>\n",
       "      <td>137.45</td>\n",
       "      <td>-2</td>\n",
       "      <td>-2</td>\n",
       "      <td>91.33</td>\n",
       "      <td>2</td>\n",
       "      <td>0</td>\n",
       "    </tr>\n",
       "    <tr>\n",
       "      <th>4</th>\n",
       "      <td>10005</td>\n",
       "      <td>1</td>\n",
       "      <td>2</td>\n",
       "      <td>METRO</td>\n",
       "      <td>U</td>\n",
       "      <td>2</td>\n",
       "      <td>0</td>\n",
       "      <td>1</td>\n",
       "      <td>0</td>\n",
       "      <td>0</td>\n",
       "      <td>...</td>\n",
       "      <td>0</td>\n",
       "      <td>102.83</td>\n",
       "      <td>1</td>\n",
       "      <td>0</td>\n",
       "      <td>137.45</td>\n",
       "      <td>-2</td>\n",
       "      <td>-2</td>\n",
       "      <td>91.33</td>\n",
       "      <td>-2</td>\n",
       "      <td>-2</td>\n",
       "    </tr>\n",
       "  </tbody>\n",
       "</table>\n",
       "<p>5 rows × 759 columns</p>\n",
       "</div>"
      ],
      "text/plain": [
       "   DOEID  REGIONC  DIVISION METROMICRO UATYP10  TYPEHUQ  ZTYPEHUQ  CELLAR  \\\n",
       "0  10001        4        10      METRO       U        2         0       0   \n",
       "1  10002        3         7       NONE       R        2         0       0   \n",
       "2  10003        3         6      METRO       U        2         0       1   \n",
       "3  10004        2         4      MICRO       C        2         0       1   \n",
       "4  10005        1         2      METRO       U        2         0       1   \n",
       "\n",
       "   ZCELLAR  BASEFIN  ...  ZELAMOUNT  NGXBTU  PERIODNG  ZNGAMOUNT  FOXBTU  \\\n",
       "0        0       -2  ...          0  103.32         1          0  137.45   \n",
       "1        0       -2  ...          1     NaN        -2         -2  137.45   \n",
       "2        0        1  ...          0  100.14         1          0  137.45   \n",
       "3        0        1  ...          0     NaN        -2         -2  137.45   \n",
       "4        0        0  ...          0  102.83         1          0  137.45   \n",
       "\n",
       "   PERIODFO  ZFOAMOUNT  LPXBTU  PERIODLP  ZLPAMOUNT  \n",
       "0        -2         -2   91.33        -2         -2  \n",
       "1        -2         -2   91.33        -2         -2  \n",
       "2        -2         -2   91.33        -2         -2  \n",
       "3        -2         -2   91.33         2          0  \n",
       "4        -2         -2   91.33        -2         -2  \n",
       "\n",
       "[5 rows x 759 columns]"
      ]
     },
     "execution_count": 4,
     "metadata": {},
     "output_type": "execute_result"
    }
   ],
   "source": [
    "df.head()"
   ]
  },
  {
   "cell_type": "markdown",
   "metadata": {},
   "source": [
    "### Correlation Heat Map "
   ]
  },
  {
   "cell_type": "code",
   "execution_count": 5,
   "metadata": {},
   "outputs": [
    {
     "data": {
      "image/png": "[encoded data removed]",
      "text/plain": [
       "<Figure size 576x864 with 2 Axes>"
      ]
     },
     "metadata": {
      "needs_background": "light"
     },
     "output_type": "display_data"
    }
   ],
   "source": [
    "plt.figure(figsize=(8, 12))\n",
    "heatmap = sns.heatmap(df.corr()[['KWH']].sort_values(by='KWH', ascending=False), vmin=-1, vmax=1, annot=True, cmap='BrBG')\n",
    "heatmap.set_title('Features Correlating with total electricity usage', fontdict={'fontsize':18}, pad=16);"
   ]
  },
  {
   "cell_type": "markdown",
   "metadata": {},
   "source": [
    "### Drop unnecessary columns "
   ]
  },
  {
   "cell_type": "code",
   "execution_count": 6,
   "metadata": {},
   "outputs": [],
   "source": [
    "df.drop(df.columns.difference(['KWH','TOTSQFT_EN','NCOMBATH','TOTROOMS','\tTOTSQFT_EN','ZBEDROOMS','FUELPOOL','RECBATH','ROOFTYPE']), 1, inplace=True)"
   ]
  },
  {
   "cell_type": "markdown",
   "metadata": {},
   "source": [
    "### save into a new csv file"
   ]
  },
  {
   "cell_type": "code",
   "execution_count": 7,
   "metadata": {},
   "outputs": [],
   "source": [
    "df.to_csv('electricity.csv', index=False)\n"
   ]
  },
  {
   "cell_type": "code",
   "execution_count": 8,
   "metadata": {},
   "outputs": [],
   "source": [
    "dataframe = pd.read_csv(\"electricity.csv\") \n"
   ]
  },
  {
   "cell_type": "code",
   "execution_count": 9,
   "metadata": {},
   "outputs": [
    {
     "data": {
      "text/html": [
       "<div>\n",
       "<style scoped>\n",
       "    .dataframe tbody tr th:only-of-type {\n",
       "        vertical-align: middle;\n",
       "    }\n",
       "\n",
       "    .dataframe tbody tr th {\n",
       "        vertical-align: top;\n",
       "    }\n",
       "\n",
       "    .dataframe thead th {\n",
       "        text-align: right;\n",
       "    }\n",
       "</style>\n",
       "<table border=\"1\" class=\"dataframe\">\n",
       "  <thead>\n",
       "    <tr style=\"text-align: right;\">\n",
       "      <th></th>\n",
       "      <th>ZBEDROOMS</th>\n",
       "      <th>NCOMBATH</th>\n",
       "      <th>TOTROOMS</th>\n",
       "      <th>ROOFTYPE</th>\n",
       "      <th>FUELPOOL</th>\n",
       "      <th>RECBATH</th>\n",
       "      <th>TOTSQFT_EN</th>\n",
       "      <th>KWH</th>\n",
       "    </tr>\n",
       "  </thead>\n",
       "  <tbody>\n",
       "    <tr>\n",
       "      <th>0</th>\n",
       "      <td>0</td>\n",
       "      <td>2</td>\n",
       "      <td>7</td>\n",
       "      <td>1</td>\n",
       "      <td>-2</td>\n",
       "      <td>0</td>\n",
       "      <td>1808</td>\n",
       "      <td>5270.742</td>\n",
       "    </tr>\n",
       "    <tr>\n",
       "      <th>1</th>\n",
       "      <td>0</td>\n",
       "      <td>1</td>\n",
       "      <td>4</td>\n",
       "      <td>3</td>\n",
       "      <td>-2</td>\n",
       "      <td>0</td>\n",
       "      <td>759</td>\n",
       "      <td>12173.000</td>\n",
       "    </tr>\n",
       "    <tr>\n",
       "      <th>2</th>\n",
       "      <td>0</td>\n",
       "      <td>2</td>\n",
       "      <td>9</td>\n",
       "      <td>5</td>\n",
       "      <td>-2</td>\n",
       "      <td>0</td>\n",
       "      <td>2288</td>\n",
       "      <td>19655.394</td>\n",
       "    </tr>\n",
       "    <tr>\n",
       "      <th>3</th>\n",
       "      <td>0</td>\n",
       "      <td>2</td>\n",
       "      <td>7</td>\n",
       "      <td>5</td>\n",
       "      <td>-2</td>\n",
       "      <td>0</td>\n",
       "      <td>2573</td>\n",
       "      <td>9852.535</td>\n",
       "    </tr>\n",
       "    <tr>\n",
       "      <th>4</th>\n",
       "      <td>0</td>\n",
       "      <td>2</td>\n",
       "      <td>6</td>\n",
       "      <td>5</td>\n",
       "      <td>-2</td>\n",
       "      <td>0</td>\n",
       "      <td>1024</td>\n",
       "      <td>3115.655</td>\n",
       "    </tr>\n",
       "  </tbody>\n",
       "</table>\n",
       "</div>"
      ],
      "text/plain": [
       "   ZBEDROOMS  NCOMBATH  TOTROOMS  ROOFTYPE  FUELPOOL  RECBATH  TOTSQFT_EN  \\\n",
       "0          0         2         7         1        -2        0        1808   \n",
       "1          0         1         4         3        -2        0         759   \n",
       "2          0         2         9         5        -2        0        2288   \n",
       "3          0         2         7         5        -2        0        2573   \n",
       "4          0         2         6         5        -2        0        1024   \n",
       "\n",
       "         KWH  \n",
       "0   5270.742  \n",
       "1  12173.000  \n",
       "2  19655.394  \n",
       "3   9852.535  \n",
       "4   3115.655  "
      ]
     },
     "execution_count": 9,
     "metadata": {},
     "output_type": "execute_result"
    }
   ],
   "source": [
    "dataframe.head()"
   ]
  },
  {
   "cell_type": "markdown",
   "metadata": {},
   "source": [
    "### Correlation Heatmap"
   ]
  },
  {
   "cell_type": "code",
   "execution_count": 10,
   "metadata": {},
   "outputs": [
    {
     "data": {
      "text/html": [
       "<div>\n",
       "<style scoped>\n",
       "    .dataframe tbody tr th:only-of-type {\n",
       "        vertical-align: middle;\n",
       "    }\n",
       "\n",
       "    .dataframe tbody tr th {\n",
       "        vertical-align: top;\n",
       "    }\n",
       "\n",
       "    .dataframe thead th {\n",
       "        text-align: right;\n",
       "    }\n",
       "</style>\n",
       "<table border=\"1\" class=\"dataframe\">\n",
       "  <thead>\n",
       "    <tr style=\"text-align: right;\">\n",
       "      <th></th>\n",
       "      <th>ZBEDROOMS</th>\n",
       "      <th>NCOMBATH</th>\n",
       "      <th>TOTROOMS</th>\n",
       "      <th>ROOFTYPE</th>\n",
       "      <th>FUELPOOL</th>\n",
       "      <th>RECBATH</th>\n",
       "      <th>TOTSQFT_EN</th>\n",
       "      <th>KWH</th>\n",
       "    </tr>\n",
       "  </thead>\n",
       "  <tbody>\n",
       "    <tr>\n",
       "      <th>ZBEDROOMS</th>\n",
       "      <td>1.000000</td>\n",
       "      <td>-0.029914</td>\n",
       "      <td>-0.042951</td>\n",
       "      <td>-0.016656</td>\n",
       "      <td>0.001335</td>\n",
       "      <td>-0.010970</td>\n",
       "      <td>-0.023224</td>\n",
       "      <td>0.003747</td>\n",
       "    </tr>\n",
       "    <tr>\n",
       "      <th>NCOMBATH</th>\n",
       "      <td>-0.029914</td>\n",
       "      <td>1.000000</td>\n",
       "      <td>0.595061</td>\n",
       "      <td>0.255189</td>\n",
       "      <td>0.136675</td>\n",
       "      <td>0.215394</td>\n",
       "      <td>0.536527</td>\n",
       "      <td>0.386172</td>\n",
       "    </tr>\n",
       "    <tr>\n",
       "      <th>TOTROOMS</th>\n",
       "      <td>-0.042951</td>\n",
       "      <td>0.595061</td>\n",
       "      <td>1.000000</td>\n",
       "      <td>0.442529</td>\n",
       "      <td>0.128068</td>\n",
       "      <td>0.199020</td>\n",
       "      <td>0.698421</td>\n",
       "      <td>0.411689</td>\n",
       "    </tr>\n",
       "    <tr>\n",
       "      <th>ROOFTYPE</th>\n",
       "      <td>-0.016656</td>\n",
       "      <td>0.255189</td>\n",
       "      <td>0.442529</td>\n",
       "      <td>1.000000</td>\n",
       "      <td>0.047143</td>\n",
       "      <td>0.082203</td>\n",
       "      <td>0.389298</td>\n",
       "      <td>0.279588</td>\n",
       "    </tr>\n",
       "    <tr>\n",
       "      <th>FUELPOOL</th>\n",
       "      <td>0.001335</td>\n",
       "      <td>0.136675</td>\n",
       "      <td>0.128068</td>\n",
       "      <td>0.047143</td>\n",
       "      <td>1.000000</td>\n",
       "      <td>0.218810</td>\n",
       "      <td>0.092558</td>\n",
       "      <td>0.149274</td>\n",
       "    </tr>\n",
       "    <tr>\n",
       "      <th>RECBATH</th>\n",
       "      <td>-0.010970</td>\n",
       "      <td>0.215394</td>\n",
       "      <td>0.199020</td>\n",
       "      <td>0.082203</td>\n",
       "      <td>0.218810</td>\n",
       "      <td>1.000000</td>\n",
       "      <td>0.193462</td>\n",
       "      <td>0.187231</td>\n",
       "    </tr>\n",
       "    <tr>\n",
       "      <th>TOTSQFT_EN</th>\n",
       "      <td>-0.023224</td>\n",
       "      <td>0.536527</td>\n",
       "      <td>0.698421</td>\n",
       "      <td>0.389298</td>\n",
       "      <td>0.092558</td>\n",
       "      <td>0.193462</td>\n",
       "      <td>1.000000</td>\n",
       "      <td>0.366754</td>\n",
       "    </tr>\n",
       "    <tr>\n",
       "      <th>KWH</th>\n",
       "      <td>0.003747</td>\n",
       "      <td>0.386172</td>\n",
       "      <td>0.411689</td>\n",
       "      <td>0.279588</td>\n",
       "      <td>0.149274</td>\n",
       "      <td>0.187231</td>\n",
       "      <td>0.366754</td>\n",
       "      <td>1.000000</td>\n",
       "    </tr>\n",
       "  </tbody>\n",
       "</table>\n",
       "</div>"
      ],
      "text/plain": [
       "            ZBEDROOMS  NCOMBATH  TOTROOMS  ROOFTYPE  FUELPOOL   RECBATH  \\\n",
       "ZBEDROOMS    1.000000 -0.029914 -0.042951 -0.016656  0.001335 -0.010970   \n",
       "NCOMBATH    -0.029914  1.000000  0.595061  0.255189  0.136675  0.215394   \n",
       "TOTROOMS    -0.042951  0.595061  1.000000  0.442529  0.128068  0.199020   \n",
       "ROOFTYPE    -0.016656  0.255189  0.442529  1.000000  0.047143  0.082203   \n",
       "FUELPOOL     0.001335  0.136675  0.128068  0.047143  1.000000  0.218810   \n",
       "RECBATH     -0.010970  0.215394  0.199020  0.082203  0.218810  1.000000   \n",
       "TOTSQFT_EN  -0.023224  0.536527  0.698421  0.389298  0.092558  0.193462   \n",
       "KWH          0.003747  0.386172  0.411689  0.279588  0.149274  0.187231   \n",
       "\n",
       "            TOTSQFT_EN       KWH  \n",
       "ZBEDROOMS    -0.023224  0.003747  \n",
       "NCOMBATH      0.536527  0.386172  \n",
       "TOTROOMS      0.698421  0.411689  \n",
       "ROOFTYPE      0.389298  0.279588  \n",
       "FUELPOOL      0.092558  0.149274  \n",
       "RECBATH       0.193462  0.187231  \n",
       "TOTSQFT_EN    1.000000  0.366754  \n",
       "KWH           0.366754  1.000000  "
      ]
     },
     "execution_count": 10,
     "metadata": {},
     "output_type": "execute_result"
    }
   ],
   "source": [
    "dataframe.corr()\n"
   ]
  },
  {
   "cell_type": "code",
   "execution_count": 11,
   "metadata": {},
   "outputs": [
    {
     "data": {
      "image/png": "[encoded data removed]",
      "text/plain": [
       "<Figure size 1152x432 with 2 Axes>"
      ]
     },
     "metadata": {
      "needs_background": "light"
     },
     "output_type": "display_data"
    }
   ],
   "source": [
    "# Increase the size of the heatmap.\n",
    "plt.figure(figsize=(16, 6))\n",
    "# Store heatmap object in a variable to easily access it when you want to include more features (such as title).\n",
    "# Set the range of values to be displayed on the colormap from -1 to 1, and set the annotation to True to display the correlation values on the heatmap.\n",
    "heatmap = sns.heatmap(dataframe.corr(), vmin=-1, vmax=1, annot=True)\n",
    "# Give a title to the heatmap. Pad defines the distance of the title from the top of the heatmap.\n",
    "heatmap.set_title('Correlation Heatmap', fontdict={'fontsize':12}, pad=12);"
   ]
  },
  {
   "cell_type": "code",
   "execution_count": 12,
   "metadata": {},
   "outputs": [
    {
     "data": {
      "image/png": "[encoded data removed]",
      "text/plain": [
       "<Figure size 576x864 with 2 Axes>"
      ]
     },
     "metadata": {
      "needs_background": "light"
     },
     "output_type": "display_data"
    }
   ],
   "source": [
    "plt.figure(figsize=(8, 12))\n",
    "heatmap = sns.heatmap(dataframe.corr()[['KWH']].sort_values(by='KWH', ascending=False), vmin=-1, vmax=1, annot=True, cmap='BrBG')\n",
    "heatmap.set_title('Features Correlating with total electricity usage', fontdict={'fontsize':18}, pad=16);"
   ]
  },
  {
   "cell_type": "code",
   "execution_count": 27,
   "metadata": {},
   "outputs": [],
   "source": [
    "y = dataframe['KWH']\n"
   ]
  },
  {
   "cell_type": "code",
   "execution_count": 28,
   "metadata": {},
   "outputs": [],
   "source": [
    "X = dataframe[['ZBEDROOMS','NCOMBATH','TOTROOMS','ROOFTYPE','TOTSQFT_EN','FUELPOOL','RECBATH']]\n"
   ]
  },
  {
   "cell_type": "markdown",
   "metadata": {},
   "source": [
    "### Splitting The Data into Training And Testing Dataset\n",
    " Set a variable X equal to the numerical features of the dataframe and a variable y equal to the \"Total kilowatts per hour\" column."
   ]
  },
  {
   "cell_type": "code",
   "execution_count": 29,
   "metadata": {},
   "outputs": [
    {
     "name": "stdout",
     "output_type": "stream",
     "text": [
      "(3980, 8)\n",
      "(1706, 8)\n"
     ]
    }
   ],
   "source": [
    "\n",
    "train_X, test_X,train_y,test_y = train_test_split(X, y, test_size=0.3) # our main data split into train and test\n",
    "# the attribute test_size=0.3 splits the data into 70% and 30% ratio. train=70% and test=30%\n",
    "print(train.shape)\n",
    "print(test.shape)"
   ]
  },
  {
   "cell_type": "code",
   "execution_count": 14,
   "metadata": {},
   "outputs": [],
   "source": []
  },
  {
   "cell_type": "code",
   "execution_count": 30,
   "metadata": {},
   "outputs": [
    {
     "data": {
      "text/html": [
       "<div>\n",
       "<style scoped>\n",
       "    .dataframe tbody tr th:only-of-type {\n",
       "        vertical-align: middle;\n",
       "    }\n",
       "\n",
       "    .dataframe tbody tr th {\n",
       "        vertical-align: top;\n",
       "    }\n",
       "\n",
       "    .dataframe thead th {\n",
       "        text-align: right;\n",
       "    }\n",
       "</style>\n",
       "<table border=\"1\" class=\"dataframe\">\n",
       "  <thead>\n",
       "    <tr style=\"text-align: right;\">\n",
       "      <th></th>\n",
       "      <th>ZBEDROOMS</th>\n",
       "      <th>NCOMBATH</th>\n",
       "      <th>TOTROOMS</th>\n",
       "      <th>ROOFTYPE</th>\n",
       "      <th>TOTSQFT_EN</th>\n",
       "      <th>FUELPOOL</th>\n",
       "      <th>RECBATH</th>\n",
       "    </tr>\n",
       "  </thead>\n",
       "  <tbody>\n",
       "    <tr>\n",
       "      <th>1560</th>\n",
       "      <td>0</td>\n",
       "      <td>1</td>\n",
       "      <td>5</td>\n",
       "      <td>5</td>\n",
       "      <td>1050</td>\n",
       "      <td>-2</td>\n",
       "      <td>0</td>\n",
       "    </tr>\n",
       "    <tr>\n",
       "      <th>4985</th>\n",
       "      <td>0</td>\n",
       "      <td>2</td>\n",
       "      <td>6</td>\n",
       "      <td>5</td>\n",
       "      <td>2094</td>\n",
       "      <td>-2</td>\n",
       "      <td>0</td>\n",
       "    </tr>\n",
       "    <tr>\n",
       "      <th>5059</th>\n",
       "      <td>0</td>\n",
       "      <td>2</td>\n",
       "      <td>9</td>\n",
       "      <td>5</td>\n",
       "      <td>2916</td>\n",
       "      <td>-2</td>\n",
       "      <td>0</td>\n",
       "    </tr>\n",
       "    <tr>\n",
       "      <th>4335</th>\n",
       "      <td>0</td>\n",
       "      <td>3</td>\n",
       "      <td>11</td>\n",
       "      <td>5</td>\n",
       "      <td>3644</td>\n",
       "      <td>-2</td>\n",
       "      <td>0</td>\n",
       "    </tr>\n",
       "    <tr>\n",
       "      <th>3775</th>\n",
       "      <td>0</td>\n",
       "      <td>1</td>\n",
       "      <td>5</td>\n",
       "      <td>5</td>\n",
       "      <td>1632</td>\n",
       "      <td>-2</td>\n",
       "      <td>0</td>\n",
       "    </tr>\n",
       "  </tbody>\n",
       "</table>\n",
       "</div>"
      ],
      "text/plain": [
       "      ZBEDROOMS  NCOMBATH  TOTROOMS  ROOFTYPE  TOTSQFT_EN  FUELPOOL  RECBATH\n",
       "1560          0         1         5         5        1050        -2        0\n",
       "4985          0         2         6         5        2094        -2        0\n",
       "5059          0         2         9         5        2916        -2        0\n",
       "4335          0         3        11         5        3644        -2        0\n",
       "3775          0         1         5         5        1632        -2        0"
      ]
     },
     "execution_count": 30,
     "metadata": {},
     "output_type": "execute_result"
    }
   ],
   "source": [
    "train_X.head()"
   ]
  },
  {
   "cell_type": "code",
   "execution_count": 31,
   "metadata": {},
   "outputs": [
    {
     "data": {
      "text/html": [
       "<div>\n",
       "<style scoped>\n",
       "    .dataframe tbody tr th:only-of-type {\n",
       "        vertical-align: middle;\n",
       "    }\n",
       "\n",
       "    .dataframe tbody tr th {\n",
       "        vertical-align: top;\n",
       "    }\n",
       "\n",
       "    .dataframe thead th {\n",
       "        text-align: right;\n",
       "    }\n",
       "</style>\n",
       "<table border=\"1\" class=\"dataframe\">\n",
       "  <thead>\n",
       "    <tr style=\"text-align: right;\">\n",
       "      <th></th>\n",
       "      <th>ZBEDROOMS</th>\n",
       "      <th>NCOMBATH</th>\n",
       "      <th>TOTROOMS</th>\n",
       "      <th>ROOFTYPE</th>\n",
       "      <th>TOTSQFT_EN</th>\n",
       "      <th>FUELPOOL</th>\n",
       "      <th>RECBATH</th>\n",
       "    </tr>\n",
       "  </thead>\n",
       "  <tbody>\n",
       "    <tr>\n",
       "      <th>3364</th>\n",
       "      <td>0</td>\n",
       "      <td>1</td>\n",
       "      <td>5</td>\n",
       "      <td>-2</td>\n",
       "      <td>413</td>\n",
       "      <td>-2</td>\n",
       "      <td>0</td>\n",
       "    </tr>\n",
       "    <tr>\n",
       "      <th>1738</th>\n",
       "      <td>0</td>\n",
       "      <td>2</td>\n",
       "      <td>4</td>\n",
       "      <td>5</td>\n",
       "      <td>728</td>\n",
       "      <td>-2</td>\n",
       "      <td>0</td>\n",
       "    </tr>\n",
       "    <tr>\n",
       "      <th>5615</th>\n",
       "      <td>0</td>\n",
       "      <td>1</td>\n",
       "      <td>5</td>\n",
       "      <td>5</td>\n",
       "      <td>1232</td>\n",
       "      <td>-2</td>\n",
       "      <td>0</td>\n",
       "    </tr>\n",
       "    <tr>\n",
       "      <th>1344</th>\n",
       "      <td>0</td>\n",
       "      <td>1</td>\n",
       "      <td>6</td>\n",
       "      <td>5</td>\n",
       "      <td>1312</td>\n",
       "      <td>-2</td>\n",
       "      <td>0</td>\n",
       "    </tr>\n",
       "    <tr>\n",
       "      <th>1441</th>\n",
       "      <td>0</td>\n",
       "      <td>2</td>\n",
       "      <td>9</td>\n",
       "      <td>3</td>\n",
       "      <td>1900</td>\n",
       "      <td>-2</td>\n",
       "      <td>0</td>\n",
       "    </tr>\n",
       "  </tbody>\n",
       "</table>\n",
       "</div>"
      ],
      "text/plain": [
       "      ZBEDROOMS  NCOMBATH  TOTROOMS  ROOFTYPE  TOTSQFT_EN  FUELPOOL  RECBATH\n",
       "3364          0         1         5        -2         413        -2        0\n",
       "1738          0         2         4         5         728        -2        0\n",
       "5615          0         1         5         5        1232        -2        0\n",
       "1344          0         1         6         5        1312        -2        0\n",
       "1441          0         2         9         3        1900        -2        0"
      ]
     },
     "execution_count": 31,
     "metadata": {},
     "output_type": "execute_result"
    }
   ],
   "source": [
    "test_X.head()"
   ]
  },
  {
   "cell_type": "markdown",
   "metadata": {},
   "source": [
    "\n",
    "### Training the Model"
   ]
  },
  {
   "cell_type": "markdown",
   "metadata": {},
   "source": [
    "### Linear Regression\n",
    "Create an instance of a LinearRegression() model named lm."
   ]
  },
  {
   "cell_type": "code",
   "execution_count": 17,
   "metadata": {},
   "outputs": [],
   "source": [
    "lm = LinearRegression() #Create an instance of a LinearRegression() model named lm.\n",
    "\n",
    "model = lm.fit(train_X,train_y)"
   ]
  },
  {
   "cell_type": "code",
   "execution_count": 18,
   "metadata": {},
   "outputs": [
    {
     "name": "stdout",
     "output_type": "stream",
     "text": [
      "[ 8824.18566517 11768.17102573  6018.70933363 ... 11475.51966605\n",
      " 16346.51724824  9267.31133076]\n"
     ]
    }
   ],
   "source": [
    "predictions = lm.predict(train_X)\n",
    "print(predictions)"
   ]
  },
  {
   "cell_type": "code",
   "execution_count": 19,
   "metadata": {},
   "outputs": [
    {
     "data": {
      "text/plain": [
       "0.2356525379547617"
      ]
     },
     "execution_count": 19,
     "metadata": {},
     "output_type": "execute_result"
    }
   ],
   "source": [
    "lm.score(train_X,train_y)"
   ]
  },
  {
   "cell_type": "markdown",
   "metadata": {},
   "source": [
    "### print coefficients"
   ]
  },
  {
   "cell_type": "code",
   "execution_count": 20,
   "metadata": {},
   "outputs": [
    {
     "data": {
      "text/plain": [
       "array([2.16647481e+03, 1.80775822e+03, 4.29373652e+02, 3.28127297e+02,\n",
       "       5.50080537e-01, 6.09207847e+02, 1.78524232e+03])"
      ]
     },
     "execution_count": 20,
     "metadata": {},
     "output_type": "execute_result"
    }
   ],
   "source": [
    "lm.coef_"
   ]
  },
  {
   "cell_type": "markdown",
   "metadata": {},
   "source": [
    "### print intercept"
   ]
  },
  {
   "cell_type": "code",
   "execution_count": 21,
   "metadata": {},
   "outputs": [
    {
     "data": {
      "text/plain": [
       "3858.7522182272023"
      ]
     },
     "execution_count": 21,
     "metadata": {},
     "output_type": "execute_result"
    }
   ],
   "source": [
    "lm.intercept_\n"
   ]
  },
  {
   "cell_type": "markdown",
   "metadata": {},
   "source": [
    "\n",
    "### Predicting Test Data\n",
    "Now that we have fit our model, let's evaluate its performance by predicting off the test values!"
   ]
  },
  {
   "cell_type": "markdown",
   "metadata": {},
   "source": [
    "###  Use lm.predict() to predict off the X_test set of the data.\n",
    "\n"
   ]
  },
  {
   "cell_type": "code",
   "execution_count": 22,
   "metadata": {},
   "outputs": [],
   "source": [
    "predictions = lm.predict(test_X)\n"
   ]
  },
  {
   "cell_type": "markdown",
   "metadata": {},
   "source": [
    "### Create a scatterplot of the real test values versus the predicted values.\n",
    "\n"
   ]
  },
  {
   "cell_type": "code",
   "execution_count": 23,
   "metadata": {},
   "outputs": [
    {
     "data": {
      "text/plain": [
       "Text(0, 0.5, 'Predicted Y')"
      ]
     },
     "execution_count": 23,
     "metadata": {},
     "output_type": "execute_result"
    },
    {
     "data": {
      "image/png": "[encoded data removed]",
      "text/plain": [
       "<Figure size 432x288 with 1 Axes>"
      ]
     },
     "metadata": {
      "needs_background": "light"
     },
     "output_type": "display_data"
    }
   ],
   "source": [
    "plt.scatter(test_y,predictions)\n",
    "plt.xlabel('Y Test')\n",
    "plt.ylabel('Predicted Y')"
   ]
  },
  {
   "cell_type": "markdown",
   "metadata": {},
   "source": [
    "### Evaluating the Model\n",
    " calculating the residual sum of squares and the explained variance score (R^2)"
   ]
  },
  {
   "cell_type": "markdown",
   "metadata": {},
   "source": [
    "#### Calculate the Mean Absolute Error, Mean Squared Error, and the Root Mean Squared Error.\n",
    "\n"
   ]
  },
  {
   "cell_type": "code",
   "execution_count": 24,
   "metadata": {},
   "outputs": [
    {
     "name": "stdout",
     "output_type": "stream",
     "text": [
      "MAE: 4894.183780133641\n",
      "MSE: 41882764.772084475\n",
      "RMSE: 6471.6894835958\n"
     ]
    }
   ],
   "source": [
    "from sklearn import metrics\n",
    "\n",
    "print('MAE:', metrics.mean_absolute_error(test_y, predictions))\n",
    "print('MSE:', metrics.mean_squared_error(test_y, predictions))\n",
    "print('RMSE:', np.sqrt(metrics.mean_squared_error(test_y, predictions)))"
   ]
  },
  {
   "cell_type": "markdown",
   "metadata": {},
   "source": [
    "### Residuals\n"
   ]
  },
  {
   "cell_type": "markdown",
   "metadata": {},
   "source": [
    "#### Plot a histogram of the residuals and make sure it looks normally distributed. Use either seaborn distplot, or just plt.hist().\n",
    "\n"
   ]
  },
  {
   "cell_type": "code",
   "execution_count": 25,
   "metadata": {},
   "outputs": [
    {
     "data": {
      "image/png": "[encoded data removed]",
      "text/plain": [
       "<Figure size 360x360 with 1 Axes>"
      ]
     },
     "metadata": {
      "needs_background": "light"
     },
     "output_type": "display_data"
    }
   ],
   "source": [
    "sns.displot((test_y-predictions),bins=50);\n"
   ]
  },
  {
   "cell_type": "markdown",
   "metadata": {},
   "source": [
    "### Conclusion"
   ]
  },
  {
   "cell_type": "code",
   "execution_count": 32,
   "metadata": {},
   "outputs": [
    {
     "data": {
      "text/html": [
       "<div>\n",
       "<style scoped>\n",
       "    .dataframe tbody tr th:only-of-type {\n",
       "        vertical-align: middle;\n",
       "    }\n",
       "\n",
       "    .dataframe tbody tr th {\n",
       "        vertical-align: top;\n",
       "    }\n",
       "\n",
       "    .dataframe thead th {\n",
       "        text-align: right;\n",
       "    }\n",
       "</style>\n",
       "<table border=\"1\" class=\"dataframe\">\n",
       "  <thead>\n",
       "    <tr style=\"text-align: right;\">\n",
       "      <th></th>\n",
       "      <th>Coeffecient</th>\n",
       "    </tr>\n",
       "  </thead>\n",
       "  <tbody>\n",
       "    <tr>\n",
       "      <th>ZBEDROOMS</th>\n",
       "      <td>2166.474806</td>\n",
       "    </tr>\n",
       "    <tr>\n",
       "      <th>NCOMBATH</th>\n",
       "      <td>1807.758218</td>\n",
       "    </tr>\n",
       "    <tr>\n",
       "      <th>TOTROOMS</th>\n",
       "      <td>429.373652</td>\n",
       "    </tr>\n",
       "    <tr>\n",
       "      <th>ROOFTYPE</th>\n",
       "      <td>328.127297</td>\n",
       "    </tr>\n",
       "    <tr>\n",
       "      <th>TOTSQFT_EN</th>\n",
       "      <td>0.550081</td>\n",
       "    </tr>\n",
       "    <tr>\n",
       "      <th>FUELPOOL</th>\n",
       "      <td>609.207847</td>\n",
       "    </tr>\n",
       "    <tr>\n",
       "      <th>RECBATH</th>\n",
       "      <td>1785.242323</td>\n",
       "    </tr>\n",
       "  </tbody>\n",
       "</table>\n",
       "</div>"
      ],
      "text/plain": [
       "            Coeffecient\n",
       "ZBEDROOMS   2166.474806\n",
       "NCOMBATH    1807.758218\n",
       "TOTROOMS     429.373652\n",
       "ROOFTYPE     328.127297\n",
       "TOTSQFT_EN     0.550081\n",
       "FUELPOOL     609.207847\n",
       "RECBATH     1785.242323"
      ]
     },
     "execution_count": 32,
     "metadata": {},
     "output_type": "execute_result"
    }
   ],
   "source": [
    "coeffecients = pd.DataFrame(lm.coef_,X.columns)\n",
    "coeffecients.columns = ['Coeffecient']\n",
    "coeffecients"
   ]
  },
  {
   "cell_type": "code",
   "execution_count": null,
   "metadata": {},
   "outputs": [],
   "source": []
  }
 ],
 "metadata": {
  "kernelspec": {
   "display_name": "Python 3",
   "language": "python",
   "name": "python3"
  },
  "language_info": {
   "codemirror_mode": {
    "name": "ipython",
    "version": 3
   },
   "file_extension": ".py",
   "mimetype": "text/x-python",
   "name": "python",
   "nbconvert_exporter": "python",
   "pygments_lexer": "ipython3",
   "version": "3.8.5"
  }
 },
 "nbformat": 4,
 "nbformat_minor": 4
}
